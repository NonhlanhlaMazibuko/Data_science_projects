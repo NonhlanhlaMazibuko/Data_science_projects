{
  "nbformat": 4,
  "nbformat_minor": 0,
  "metadata": {
    "colab": {
      "provenance": [],
      "authorship_tag": "ABX9TyP4qN7QQjzRp+iXujNCZeGR",
      "include_colab_link": true
    },
    "kernelspec": {
      "name": "python3",
      "display_name": "Python 3"
    },
    "language_info": {
      "name": "python"
    }
  },
  "cells": [
    {
      "cell_type": "markdown",
      "metadata": {
        "id": "view-in-github",
        "colab_type": "text"
      },
      "source": [
        "<a href=\"https://colab.research.google.com/github/NonhlanhlaMazibuko/Data_science_projects/blob/main/AI_image_processing.ipynb\" target=\"_parent\"><img src=\"https://colab.research.google.com/assets/colab-badge.svg\" alt=\"Open In Colab\"/></a>"
      ]
    },
    {
      "cell_type": "code",
      "execution_count": 22,
      "metadata": {
        "colab": {
          "base_uri": "https://localhost:8080/"
        },
        "id": "skzDwI-eF-1H",
        "outputId": "79689422-d937-49ed-ab93-17f04924d9d8"
      },
      "outputs": [
        {
          "output_type": "stream",
          "name": "stdout",
          "text": [
            "1 : a group of hot air balloons flying over a mountain\n",
            "60 : hot air balloons in cappada, cappada, cappada, cappada, cap\n",
            "119 : hot air balloons in cappada, cappada, cappada, cappada, cap\n",
            "178 : hot air balloons in cappada\n",
            "{1: 'a group of hot air balloons flying over a mountain', 60: 'hot air balloons in cappada, cappada, cappada, cappada, cap', 119: 'hot air balloons in cappada, cappada, cappada, cappada, cap', 178: 'hot air balloons in cappada'}\n"
          ]
        }
      ],
      "source": [
        "# Necessary imports\n",
        "import cv2\n",
        "from PIL import Image\n",
        "from transformers import BlipProcessor, BlipForConditionalGeneration\n",
        "\n",
        "processor = BlipProcessor.from_pretrained(\"Salesforce/blip-image-captioning-base\")\n",
        "model = BlipForConditionalGeneration.from_pretrained(\"Salesforce/blip-image-captioning-base\")\n",
        "\n",
        "\n",
        "video_capture = cv2.VideoCapture(\"https://github.com/user-attachments/assets/d024a685-8740-4537-94f7-e05bd512bdd7\")\n",
        "\n",
        "caption_dict = {}\n",
        "frame_number = 0\n",
        "frame_skip = 60\n",
        "\n",
        "while video_capture.isOpened():\n",
        "    ret, frame = video_capture.read()\n",
        "    if not ret:\n",
        "        break\n",
        "    if frame_number % frame_skip == 0:\n",
        "      pil_image = Image.fromarray(cv2.cvtColor(frame, cv2.COLOR_BGR2RGB))\n",
        "\n",
        "      inputs = processor(pil_image, return_tensors=\"pt\")\n",
        "\n",
        "      output = model.generate(**inputs, max_new_tokens=50)\n",
        "      caption = processor.decode(output[0], skip_special_tokens=True)\n",
        "\n",
        "      caption_dict[frame_number + 1] = caption\n",
        "      print(frame_number + 1, \":\", caption)\n",
        "\n",
        "\n",
        "    frame_number += 1\n",
        "\n",
        "      # print(frame_number, \":\", caption)\n",
        "\n",
        "video_capture.release()\n",
        "\n",
        "print(caption_dict)"
      ]
    }
  ]
}